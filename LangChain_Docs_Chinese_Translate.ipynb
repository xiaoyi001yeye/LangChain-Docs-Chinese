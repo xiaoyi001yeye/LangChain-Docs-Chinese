{
  "nbformat": 4,
  "nbformat_minor": 0,
  "metadata": {
    "colab": {
      "provenance": [],
      "mount_file_id": "1XdaY-gnAdoXUPhZdWkT8EZUNimENQZ7I",
      "authorship_tag": "ABX9TyPotxrJm/CYWrxSh0vPiKPI",
      "include_colab_link": true
    },
    "kernelspec": {
      "name": "python3",
      "display_name": "Python 3"
    },
    "language_info": {
      "name": "python"
    },
    "widgets": {
      "application/vnd.jupyter.widget-state+json": {
        "59fa549570744a19b05d3d7cf1d72231": {
          "model_module": "qgrid",
          "model_name": "QgridModel",
          "model_module_version": "^1.1.3",
          "state": {
            "_columns": {
              "index": {
                "name": "index",
                "type": "integer",
                "is_index": true,
                "index_display_text": "",
                "level": 0,
                "first_index": true,
                "position": 0,
                "field": "index",
                "id": "index",
                "cssClass": "integer",
                "editable": true,
                "defaultSortAsc": true,
                "maxWidth": null,
                "minWidth": 30,
                "resizable": true,
                "sortable": true,
                "toolTip": "",
                "width": null
              },
              "qgrid_unfiltered_index": {
                "name": "qgrid_unfiltered_index",
                "type": "integer",
                "position": 1,
                "field": "qgrid_unfiltered_index",
                "id": "qgrid_unfiltered_index",
                "cssClass": "integer",
                "editable": true,
                "defaultSortAsc": true,
                "maxWidth": null,
                "minWidth": 30,
                "resizable": true,
                "sortable": true,
                "toolTip": "",
                "width": null
              },
              "msgid": {
                "name": "msgid",
                "type": "string",
                "position": 2,
                "field": "msgid",
                "id": "msgid",
                "cssClass": "string",
                "editable": true,
                "defaultSortAsc": true,
                "maxWidth": null,
                "minWidth": 30,
                "resizable": true,
                "sortable": true,
                "toolTip": "",
                "width": null
              },
              "msgstr": {
                "name": "msgstr",
                "type": "string",
                "position": 3,
                "field": "msgstr",
                "id": "msgstr",
                "cssClass": "string",
                "editable": true,
                "defaultSortAsc": true,
                "maxWidth": null,
                "minWidth": 30,
                "resizable": true,
                "sortable": true,
                "toolTip": "",
                "width": null
              }
            },
            "_df_json": "{\"schema\":{\"fields\":[{\"name\":\"index\",\"type\":\"integer\"},{\"name\":\"qgrid_unfiltered_index\",\"type\":\"integer\"},{\"name\":\"msgid\",\"type\":\"string\"},{\"name\":\"msgstr\",\"type\":\"string\"}],\"primaryKey\":[\"index\"],\"pandas_version\":\"1.4.0\"},\"data\":[{\"index\":0,\"qgrid_unfiltered_index\":0,\"msgid\":\"Deployments\",\"msgstr\":\"\"},{\"index\":1,\"qgrid_unfiltered_index\":1,\"msgid\":\"So you've made a really cool chain - now what? How do you deploy it and make it easily sharable with the world?\",\"msgstr\":\"\"},{\"index\":2,\"qgrid_unfiltered_index\":2,\"msgid\":\"This section covers several options for that. Note that these are meant as quick deployment options for prototypes and demos, and not for production systems. If you are looking for help with deployment of a production system, please contact us directly.\",\"msgstr\":\"\"},{\"index\":3,\"qgrid_unfiltered_index\":3,\"msgid\":\"What follows is a list of template GitHub repositories aimed that are intended to be very easy to fork and modify to use your chain. This is far from an exhaustive list of options, and we are EXTREMELY open to contributions here.\",\"msgstr\":\"\"},{\"index\":4,\"qgrid_unfiltered_index\":4,\"msgid\":\"[Streamlit](https:\\/\\/github.com\\/hwchase17\\/langchain-streamlit-template)\",\"msgstr\":\"\"},{\"index\":5,\"qgrid_unfiltered_index\":5,\"msgid\":\"This repo serves as a template for how to deploy a LangChain with Streamlit. It implements a chatbot interface. It also contains instructions for how to deploy this app on the Streamlit platform.\",\"msgstr\":\"\"},{\"index\":6,\"qgrid_unfiltered_index\":6,\"msgid\":\"[Gradio (on Hugging Face)](https:\\/\\/github.com\\/hwchase17\\/langchain-gradio-template)\",\"msgstr\":\"\"},{\"index\":7,\"qgrid_unfiltered_index\":7,\"msgid\":\"This repo serves as a template for how deploy a LangChain with Gradio. It implements a chatbot interface, with a \\\"Bring-Your-Own-Token\\\" approach (nice for not wracking up big bills). It also contains instructions for how to deploy this app on the Hugging Face platform. This is heavily influenced by James Weaver's [excellent examples](https:\\/\\/huggingface.co\\/JavaFXpert).\",\"msgstr\":\"\"},{\"index\":8,\"qgrid_unfiltered_index\":8,\"msgid\":\"[Beam](https:\\/\\/github.com\\/slai-labs\\/get-beam\\/tree\\/main\\/examples\\/langchain-question-answering)\",\"msgstr\":\"\"},{\"index\":9,\"qgrid_unfiltered_index\":9,\"msgid\":\"This repo serves as a template for how deploy a LangChain with [Beam](https:\\/\\/beam.cloud).\",\"msgstr\":\"\"},{\"index\":10,\"qgrid_unfiltered_index\":10,\"msgid\":\"It implements a Question Answering app and contains instructions for deploying the app as a serverless REST API.\",\"msgstr\":\"\"},{\"index\":11,\"qgrid_unfiltered_index\":11,\"msgid\":\"[Vercel](https:\\/\\/github.com\\/homanp\\/vercel-langchain)\",\"msgstr\":\"\"},{\"index\":12,\"qgrid_unfiltered_index\":12,\"msgid\":\"A minimal example on how to run LangChain on Vercel using Flask.\",\"msgstr\":\"\"},{\"index\":13,\"qgrid_unfiltered_index\":13,\"msgid\":\"[Fly.io](https:\\/\\/github.com\\/fly-apps\\/hello-fly-langchain)\",\"msgstr\":\"\"},{\"index\":14,\"qgrid_unfiltered_index\":14,\"msgid\":\"A minimal example of how to deploy LangChain to [Fly.io](https:\\/\\/fly.io\\/) using Flask.\",\"msgstr\":\"\"},{\"index\":15,\"qgrid_unfiltered_index\":15,\"msgid\":\"[Digitalocean App Platform](https:\\/\\/github.com\\/homanp\\/digitalocean-langchain)\",\"msgstr\":\"\"},{\"index\":16,\"qgrid_unfiltered_index\":16,\"msgid\":\"A minimal example on how to deploy LangChain to DigitalOcean App Platform.\",\"msgstr\":\"\"},{\"index\":17,\"qgrid_unfiltered_index\":17,\"msgid\":\"[Google Cloud Run](https:\\/\\/github.com\\/homanp\\/gcp-langchain)\",\"msgstr\":\"\"},{\"index\":18,\"qgrid_unfiltered_index\":18,\"msgid\":\"A minimal example on how to deploy LangChain to Google Cloud Run.\",\"msgstr\":\"\"},{\"index\":19,\"qgrid_unfiltered_index\":19,\"msgid\":\"[SteamShip](https:\\/\\/github.com\\/steamship-core\\/steamship-langchain\\/)\",\"msgstr\":\"\"},{\"index\":20,\"qgrid_unfiltered_index\":20,\"msgid\":\"This repository contains LangChain adapters for Steamship, enabling LangChain developers to rapidly deploy their apps on Steamship. This includes: production ready endpoints, horizontal scaling across dependencies, persistant storage of app state, multi-tenancy support, etc.\",\"msgstr\":\"\"},{\"index\":21,\"qgrid_unfiltered_index\":21,\"msgid\":\"[Langchain-serve](https:\\/\\/github.com\\/jina-ai\\/langchain-serve)\",\"msgstr\":\"\"},{\"index\":22,\"qgrid_unfiltered_index\":22,\"msgid\":\"This repository allows users to serve local chains and agents as RESTful, gRPC, or Websocket APIs thanks to [Jina](https:\\/\\/docs.jina.ai\\/). Deploy your chains & agents with ease and enjoy independent scaling, serverless and autoscaling APIs, as well as a Streamlit playground on Jina AI Cloud.\",\"msgstr\":\"\"},{\"index\":23,\"qgrid_unfiltered_index\":23,\"msgid\":\"[BentoML](https:\\/\\/github.com\\/ssheng\\/BentoChain)\",\"msgstr\":\"\"},{\"index\":24,\"qgrid_unfiltered_index\":24,\"msgid\":\"This repository provides an example of how to deploy a LangChain application with [BentoML](https:\\/\\/github.com\\/bentoml\\/BentoML). BentoML is a framework that enables the containerization of machine learning applications as standard OCI images. BentoML also allows for the automatic generation of OpenAPI and gRPC endpoints. With BentoML, you can integrate models from all popular ML frameworks and deploy them as microservices running on the most optimal hardware and scaling independently.\",\"msgstr\":\"\"},{\"index\":25,\"qgrid_unfiltered_index\":25,\"msgid\":\"[Databutton](https:\\/\\/databutton.com\\/home?new-data-app=true)\",\"msgstr\":\"\"},{\"index\":26,\"qgrid_unfiltered_index\":26,\"msgid\":\"These templates serve as examples of how to build, deploy, and share LangChain applications using Databutton. You can create user interfaces with Streamlit, automate tasks by scheduling Python code, and store files and data in the built-in store. Examples include Chatbot interface with conversational memory, Personal search engine, and a starter template for LangChain apps. Deploying and sharing is one click.\",\"msgstr\":\"\"},{\"index\":27,\"qgrid_unfiltered_index\":27,\"msgid\":\"LangChain Ecosystem\",\"msgstr\":\"\"},{\"index\":28,\"qgrid_unfiltered_index\":28,\"msgid\":\"Guides for how other companies\\/products can be used with LangChain\",\"msgstr\":\"\"},{\"index\":29,\"qgrid_unfiltered_index\":29,\"msgid\":\"Groups\",\"msgstr\":\"\"},{\"index\":30,\"qgrid_unfiltered_index\":30,\"msgid\":\"LangChain provides integration with many LLMs and systems:\",\"msgstr\":\"\"},{\"index\":31,\"qgrid_unfiltered_index\":31,\"msgid\":\"`LLM Providers <.\\/modules\\/models\\/llms\\/integrations.html>`_\",\"msgstr\":\"\"},{\"index\":32,\"qgrid_unfiltered_index\":32,\"msgid\":\"`Chat Model Providers <.\\/modules\\/models\\/chat\\/integrations.html>`_\",\"msgstr\":\"\"},{\"index\":33,\"qgrid_unfiltered_index\":33,\"msgid\":\"`Text Embedding Model Providers <.\\/modules\\/models\\/text_embedding.html>`_\",\"msgstr\":\"\"},{\"index\":34,\"qgrid_unfiltered_index\":34,\"msgid\":\"`Document Loader Integrations <.\\/modules\\/indexes\\/document_loaders.html>`_\",\"msgstr\":\"\"},{\"index\":35,\"qgrid_unfiltered_index\":35,\"msgid\":\"`Text Splitter Integrations <.\\/modules\\/indexes\\/text_splitters.html>`_\",\"msgstr\":\"\"},{\"index\":36,\"qgrid_unfiltered_index\":36,\"msgid\":\"`Vectorstore Providers <.\\/modules\\/indexes\\/vectorstores.html>`_\",\"msgstr\":\"\"},{\"index\":37,\"qgrid_unfiltered_index\":37,\"msgid\":\"`Retriever Providers <.\\/modules\\/indexes\\/retrievers.html>`_\",\"msgstr\":\"\"},{\"index\":38,\"qgrid_unfiltered_index\":38,\"msgid\":\"`Tool Providers <.\\/modules\\/agents\\/tools.html>`_\",\"msgstr\":\"\"},{\"index\":39,\"qgrid_unfiltered_index\":39,\"msgid\":\"`Toolkit Integrations <.\\/modules\\/agents\\/toolkits.html>`_\",\"msgstr\":\"\"},{\"index\":40,\"qgrid_unfiltered_index\":40,\"msgid\":\"Companies \\/ Products\",\"msgstr\":\"\"},{\"index\":41,\"qgrid_unfiltered_index\":41,\"msgid\":\"AI21 Labs\",\"msgstr\":\"\"},{\"index\":42,\"qgrid_unfiltered_index\":42,\"msgid\":\"This page covers how to use the AI21 ecosystem within LangChain. It is broken into two parts: installation and setup, and then references to specific AI21 wrappers.\",\"msgstr\":\"\"},{\"index\":43,\"qgrid_unfiltered_index\":43,\"msgid\":\"Installation and Setup\",\"msgstr\":\"\"},{\"index\":44,\"qgrid_unfiltered_index\":44,\"msgid\":\"Get an AI21 api key and set it as an environment variable (`AI21_API_KEY`)\",\"msgstr\":\"\"},{\"index\":45,\"qgrid_unfiltered_index\":45,\"msgid\":\"Wrappers\",\"msgstr\":\"\"},{\"index\":46,\"qgrid_unfiltered_index\":46,\"msgid\":\"LLM\",\"msgstr\":\"\"},{\"index\":47,\"qgrid_unfiltered_index\":47,\"msgid\":\"There exists an AI21 LLM wrapper, which you can access with\",\"msgstr\":\"\"},{\"index\":48,\"qgrid_unfiltered_index\":48,\"msgid\":\"Aim\",\"msgstr\":\"\"},{\"index\":49,\"qgrid_unfiltered_index\":49,\"msgid\":\"Aim makes it super easy to visualize and debug LangChain executions. Aim tracks inputs and outputs of LLMs and tools, as well as actions of agents.\",\"msgstr\":\"\"},{\"index\":50,\"qgrid_unfiltered_index\":50,\"msgid\":\"With Aim, you can easily debug and examine an individual execution:\",\"msgstr\":\"\"},{\"index\":51,\"qgrid_unfiltered_index\":51,\"msgid\":\"![](https:\\/\\/user-images.githubusercontent.com\\/13848158\\/227784778-06b806c7-74a1-4d15-ab85-9ece09b458aa.png)\",\"msgstr\":\"\"},{\"index\":52,\"qgrid_unfiltered_index\":52,\"msgid\":\"Additionally, you have the option to compare multiple executions side by side:\",\"msgstr\":\"\"},{\"index\":53,\"qgrid_unfiltered_index\":53,\"msgid\":\"![](https:\\/\\/user-images.githubusercontent.com\\/13848158\\/227784994-699b24b7-e69b-48f9-9ffa-e6a6142fd719.png)\",\"msgstr\":\"\"},{\"index\":54,\"qgrid_unfiltered_index\":54,\"msgid\":\"Aim is fully open source, [learn more](https:\\/\\/github.com\\/aimhubio\\/aim) about Aim on GitHub.\",\"msgstr\":\"\"},{\"index\":55,\"qgrid_unfiltered_index\":55,\"msgid\":\"Let's move forward and see how to enable and configure Aim callback.\",\"msgstr\":\"\"},{\"index\":56,\"qgrid_unfiltered_index\":56,\"msgid\":\"In this notebook we will explore three usage scenarios. To start off, we will install the necessary packages and import certain modules. Subsequently, we will configure two environment variables that can be established either within the Python script or through the terminal.\",\"msgstr\":\"\"},{\"index\":57,\"qgrid_unfiltered_index\":57,\"msgid\":\"Our examples use a GPT model as the LLM, and OpenAI offers an API for this purpose. You can obtain the key from the following link: https:\\/\\/platform.openai.com\\/account\\/api-keys .\",\"msgstr\":\"\"},{\"index\":58,\"qgrid_unfiltered_index\":58,\"msgid\":\"We will use the SerpApi to retrieve search results from Google. To acquire the SerpApi key, please go to https:\\/\\/serpapi.com\\/manage-api-key .\",\"msgstr\":\"\"},{\"index\":59,\"qgrid_unfiltered_index\":59,\"msgid\":\"The event methods of `AimCallbackHandler` accept the LangChain module or agent as input and log at least the prompts and generated results, as well as the serialized version of the LangChain module, to the designated Aim run.\",\"msgstr\":\"\"},{\"index\":60,\"qgrid_unfiltered_index\":60,\"msgid\":\"The `flush_tracker` function is used to record LangChain assets on Aim. By default, the session is reset rather than being terminated outright.\",\"msgstr\":\"\"},{\"index\":61,\"qgrid_unfiltered_index\":61,\"msgid\":\"AnalyticDB\",\"msgstr\":\"\"},{\"index\":62,\"qgrid_unfiltered_index\":62,\"msgid\":\"This page covers how to use the AnalyticDB ecosystem within LangChain.\",\"msgstr\":\"\"},{\"index\":63,\"qgrid_unfiltered_index\":63,\"msgid\":\"VectorStore\",\"msgstr\":\"\"},{\"index\":64,\"qgrid_unfiltered_index\":64,\"msgid\":\"There exists a wrapper around AnalyticDB, allowing you to use it as a vectorstore, whether for semantic search or example selection.\",\"msgstr\":\"\"},{\"index\":65,\"qgrid_unfiltered_index\":65,\"msgid\":\"To import this vectorstore:\",\"msgstr\":\"\"},{\"index\":66,\"qgrid_unfiltered_index\":66,\"msgid\":\"For a more detailed walkthrough of the AnalyticDB wrapper, see [this notebook](..\\/modules\\/indexes\\/vectorstores\\/examples\\/analyticdb.ipynb)\",\"msgstr\":\"\"},{\"index\":67,\"qgrid_unfiltered_index\":67,\"msgid\":\"Apify\",\"msgstr\":\"\"},{\"index\":68,\"qgrid_unfiltered_index\":68,\"msgid\":\"This page covers how to use [Apify](https:\\/\\/apify.com) within LangChain.\",\"msgstr\":\"\"},{\"index\":69,\"qgrid_unfiltered_index\":69,\"msgid\":\"Overview\",\"msgstr\":\"\"},{\"index\":70,\"qgrid_unfiltered_index\":70,\"msgid\":\"Apify is a cloud platform for web scraping and data extraction, which provides an [ecosystem](https:\\/\\/apify.com\\/store) of more than a thousand ready-made apps called *Actors* for various scraping, crawling, and extraction use cases.\",\"msgstr\":\"\"},{\"index\":71,\"qgrid_unfiltered_index\":71,\"msgid\":\"[![Apify Actors](..\\/_static\\/ApifyActors.png)](https:\\/\\/apify.com\\/store)\",\"msgstr\":\"\"},{\"index\":72,\"qgrid_unfiltered_index\":72,\"msgid\":\"Apify Actors\",\"msgstr\":\"\"},{\"index\":73,\"qgrid_unfiltered_index\":73,\"msgid\":\"This integration enables you run Actors on the Apify platform and load their results into LangChain to feed your vector indexes with documents and data from the web, e.g. to generate answers from websites with documentation, blogs, or knowledge bases.\",\"msgstr\":\"\"},{\"index\":74,\"qgrid_unfiltered_index\":74,\"msgid\":\"Install the Apify API client for Python with `pip install apify-client`\",\"msgstr\":\"\"},{\"index\":75,\"qgrid_unfiltered_index\":75,\"msgid\":\"Get your [Apify API token](https:\\/\\/console.apify.com\\/account\\/integrations) and either set it as an environment variable (`APIFY_API_TOKEN`) or pass it to the `ApifyWrapper` as `apify_api_token` in the constructor.\",\"msgstr\":\"\"},{\"index\":76,\"qgrid_unfiltered_index\":76,\"msgid\":\"Utility\",\"msgstr\":\"\"},{\"index\":77,\"qgrid_unfiltered_index\":77,\"msgid\":\"You can use the `ApifyWrapper` to run Actors on the Apify platform.\",\"msgstr\":\"\"},{\"index\":78,\"qgrid_unfiltered_index\":78,\"msgid\":\"For a more detailed walkthrough of this wrapper, see [this notebook](..\\/modules\\/agents\\/tools\\/examples\\/apify.ipynb).\",\"msgstr\":\"\"},{\"index\":79,\"qgrid_unfiltered_index\":79,\"msgid\":\"Loader\",\"msgstr\":\"\"},{\"index\":80,\"qgrid_unfiltered_index\":80,\"msgid\":\"You can also use our `ApifyDatasetLoader` to get data from Apify dataset.\",\"msgstr\":\"\"},{\"index\":81,\"qgrid_unfiltered_index\":81,\"msgid\":\"For a more detailed walkthrough of this loader, see [this notebook](..\\/modules\\/indexes\\/document_loaders\\/examples\\/apify_dataset.ipynb).\",\"msgstr\":\"\"},{\"index\":82,\"qgrid_unfiltered_index\":82,\"msgid\":\"AtlasDB\",\"msgstr\":\"\"},{\"index\":83,\"qgrid_unfiltered_index\":83,\"msgid\":\"This page covers how to use Nomic's Atlas ecosystem within LangChain. It is broken into two parts: installation and setup, and then references to specific Atlas wrappers.\",\"msgstr\":\"\"},{\"index\":84,\"qgrid_unfiltered_index\":84,\"msgid\":\"Install the Python package with `pip install nomic`\",\"msgstr\":\"\"},{\"index\":85,\"qgrid_unfiltered_index\":85,\"msgid\":\"Nomic is also included in langchains poetry extras `poetry install -E all`\",\"msgstr\":\"\"},{\"index\":86,\"qgrid_unfiltered_index\":86,\"msgid\":\"There exists a wrapper around the Atlas neural database, allowing you to use it as a vectorstore. This vectorstore also gives you full access to the underlying AtlasProject object, which will allow you to use the full range of Atlas map interactions, such as bulk tagging and automatic topic modeling. Please see [the Atlas docs](https:\\/\\/docs.nomic.ai\\/atlas_api.html) for more detailed information.\",\"msgstr\":\"\"},{\"index\":87,\"qgrid_unfiltered_index\":87,\"msgid\":\"For a more detailed walkthrough of the AtlasDB wrapper, see [this notebook](..\\/modules\\/indexes\\/vectorstores\\/examples\\/atlas.ipynb)\",\"msgstr\":\"\"},{\"index\":88,\"qgrid_unfiltered_index\":88,\"msgid\":\"Banana\",\"msgstr\":\"\"},{\"index\":89,\"qgrid_unfiltered_index\":89,\"msgid\":\"This page covers how to use the Banana ecosystem within LangChain. It is broken into two parts: installation and setup, and then references to specific Banana wrappers.\",\"msgstr\":\"\"},{\"index\":90,\"qgrid_unfiltered_index\":90,\"msgid\":\"Install with `pip install banana-dev`\",\"msgstr\":\"\"},{\"index\":91,\"qgrid_unfiltered_index\":91,\"msgid\":\"Get an Banana api key and set it as an environment variable (`BANANA_API_KEY`)\",\"msgstr\":\"\"},{\"index\":92,\"qgrid_unfiltered_index\":92,\"msgid\":\"Define your Banana Template\",\"msgstr\":\"\"},{\"index\":93,\"qgrid_unfiltered_index\":93,\"msgid\":\"If you want to use an available language model template you can find one [here](https:\\/\\/app.banana.dev\\/templates\\/conceptofmind\\/serverless-template-palmyra-base). This template uses the Palmyra-Base model by [Writer](https:\\/\\/writer.com\\/product\\/api\\/). You can check out an example Banana repository [here](https:\\/\\/github.com\\/conceptofmind\\/serverless-template-palmyra-base).\",\"msgstr\":\"\"},{\"index\":94,\"qgrid_unfiltered_index\":94,\"msgid\":\"Build the Banana app\",\"msgstr\":\"\"},{\"index\":95,\"qgrid_unfiltered_index\":95,\"msgid\":\"Banana Apps must include the \\\"output\\\" key in the return json.  There is a rigid response structure.\",\"msgstr\":\"\"},{\"index\":96,\"qgrid_unfiltered_index\":96,\"msgid\":\"An example inference function would be:\",\"msgstr\":\"\"},{\"index\":97,\"qgrid_unfiltered_index\":97,\"msgid\":\"You can find a full example of a Banana app [here](https:\\/\\/github.com\\/conceptofmind\\/serverless-template-palmyra-base\\/blob\\/main\\/app.py).\",\"msgstr\":\"\"},{\"index\":98,\"qgrid_unfiltered_index\":98,\"msgid\":\"There exists an Banana LLM wrapper, which you can access with\",\"msgstr\":\"\"},{\"index\":99,\"qgrid_unfiltered_index\":99,\"msgid\":\"You need to provide a model key located in the dashboard:\",\"msgstr\":\"\"}]}",
            "_df_range": [
              0,
              100
            ],
            "_dom_classes": [],
            "_editable_rows": {},
            "_index_col_name": "qgrid_unfiltered_index",
            "_interval_columns": [],
            "_model_module": "qgrid",
            "_model_module_version": "^1.1.3",
            "_model_name": "QgridModel",
            "_multi_index": false,
            "_row_count": 1609,
            "_row_styles": {},
            "_sort_ascending": true,
            "_sort_field": null,
            "_view_count": null,
            "_view_module": "qgrid",
            "_view_module_version": "^1.1.3",
            "_view_name": "QgridView",
            "_viewport_range": [
              0,
              100
            ],
            "grid_options": {
              "fullWidthRows": true,
              "syncColumnCellResize": true,
              "forceFitColumns": true,
              "defaultColumnWidth": 150,
              "rowHeight": 28,
              "enableColumnReorder": false,
              "enableTextSelectionOnCells": true,
              "editable": true,
              "autoEdit": false,
              "explicitInitialization": true,
              "maxVisibleRows": 10,
              "minVisibleRows": 8,
              "sortable": true,
              "filterable": true,
              "highlightSelectedCell": false,
              "highlightSelectedRow": true,
              "boldIndex": true
            },
            "id": "a2bf2875-0972-4931-88ce-183c84bfffef",
            "layout": "IPY_MODEL_03ed42e470b94ae1af45f29419c7681a",
            "precision": 5,
            "show_toolbar": true
          }
        }
      }
    }
  },
  "cells": [
    {
      "cell_type": "markdown",
      "metadata": {
        "id": "view-in-github",
        "colab_type": "text"
      },
      "source": [
        "<a href=\"https://colab.research.google.com/github/xiaoyi001yeye/LangChain-Docs-Chinese/blob/main/LangChain_Docs_Chinese_Translate.ipynb\" target=\"_parent\"><img src=\"https://colab.research.google.com/assets/colab-badge.svg\" alt=\"Open In Colab\"/></a>"
      ]
    },
    {
      "cell_type": "code",
      "execution_count": 11,
      "metadata": {
        "id": "ChOL23v8fayo",
        "colab": {
          "base_uri": "https://localhost:8080/"
        },
        "outputId": "283efb53-9755-44a7-8510-c5d25d46b87e"
      },
      "outputs": [
        {
          "output_type": "stream",
          "name": "stdout",
          "text": [
            "fatal: destination path 'LangChain-Docs-Chinese' already exists and is not an empty directory.\n"
          ]
        }
      ],
      "source": [
        "!git clone https://github.com/xiaoyi001yeye/LangChain-Docs-Chinese.git"
      ]
    },
    {
      "cell_type": "code",
      "source": [
        "%%bash\n",
        "pip install polib qgrid"
      ],
      "metadata": {
        "id": "7zAmXjmhgq5x",
        "colab": {
          "base_uri": "https://localhost:8080/"
        },
        "outputId": "685d687b-c20a-4261-d06e-b5b4a3929db5"
      },
      "execution_count": 16,
      "outputs": [
        {
          "output_type": "stream",
          "name": "stdout",
          "text": [
            "Looking in indexes: https://pypi.org/simple, https://us-python.pkg.dev/colab-wheels/public/simple/\n",
            "Requirement already satisfied: polib in /usr/local/lib/python3.10/dist-packages (1.2.0)\n",
            "Collecting qgrid\n",
            "  Downloading qgrid-1.3.1.tar.gz (889 kB)\n",
            "     ━━━━━━━━━━━━━━━━━━━━━━━━━━━━━━━━━━━━━━ 889.2/889.2 kB 15.2 MB/s eta 0:00:00\n",
            "  Preparing metadata (setup.py): started\n",
            "  Preparing metadata (setup.py): finished with status 'done'\n",
            "Requirement already satisfied: notebook>=4.0.0 in /usr/local/lib/python3.10/dist-packages (from qgrid) (6.4.8)\n",
            "Requirement already satisfied: pandas>=0.18.0 in /usr/local/lib/python3.10/dist-packages (from qgrid) (1.5.3)\n",
            "Requirement already satisfied: ipywidgets>=7.0.0 in /usr/local/lib/python3.10/dist-packages (from qgrid) (7.7.1)\n",
            "Requirement already satisfied: ipython>=4.0.0 in /usr/local/lib/python3.10/dist-packages (from ipywidgets>=7.0.0->qgrid) (7.34.0)\n",
            "Requirement already satisfied: jupyterlab-widgets>=1.0.0 in /usr/local/lib/python3.10/dist-packages (from ipywidgets>=7.0.0->qgrid) (3.0.7)\n",
            "Requirement already satisfied: traitlets>=4.3.1 in /usr/local/lib/python3.10/dist-packages (from ipywidgets>=7.0.0->qgrid) (5.7.1)\n",
            "Requirement already satisfied: ipykernel>=4.5.1 in /usr/local/lib/python3.10/dist-packages (from ipywidgets>=7.0.0->qgrid) (5.5.6)\n",
            "Requirement already satisfied: widgetsnbextension~=3.6.0 in /usr/local/lib/python3.10/dist-packages (from ipywidgets>=7.0.0->qgrid) (3.6.4)\n",
            "Requirement already satisfied: ipython-genutils~=0.2.0 in /usr/local/lib/python3.10/dist-packages (from ipywidgets>=7.0.0->qgrid) (0.2.0)\n",
            "Requirement already satisfied: pyzmq>=17 in /usr/local/lib/python3.10/dist-packages (from notebook>=4.0.0->qgrid) (23.2.1)\n",
            "Requirement already satisfied: Send2Trash>=1.8.0 in /usr/local/lib/python3.10/dist-packages (from notebook>=4.0.0->qgrid) (1.8.0)\n",
            "Requirement already satisfied: argon2-cffi in /usr/local/lib/python3.10/dist-packages (from notebook>=4.0.0->qgrid) (21.3.0)\n",
            "Requirement already satisfied: jupyter-client>=5.3.4 in /usr/local/lib/python3.10/dist-packages (from notebook>=4.0.0->qgrid) (6.1.12)\n",
            "Requirement already satisfied: nbconvert in /usr/local/lib/python3.10/dist-packages (from notebook>=4.0.0->qgrid) (6.5.4)\n",
            "Requirement already satisfied: jupyter-core>=4.6.1 in /usr/local/lib/python3.10/dist-packages (from notebook>=4.0.0->qgrid) (5.3.0)\n",
            "Requirement already satisfied: jinja2 in /usr/local/lib/python3.10/dist-packages (from notebook>=4.0.0->qgrid) (3.1.2)\n",
            "Requirement already satisfied: tornado>=6.1 in /usr/local/lib/python3.10/dist-packages (from notebook>=4.0.0->qgrid) (6.2)\n",
            "Requirement already satisfied: nbformat in /usr/local/lib/python3.10/dist-packages (from notebook>=4.0.0->qgrid) (5.8.0)\n",
            "Requirement already satisfied: nest-asyncio>=1.5 in /usr/local/lib/python3.10/dist-packages (from notebook>=4.0.0->qgrid) (1.5.6)\n",
            "Requirement already satisfied: terminado>=0.8.3 in /usr/local/lib/python3.10/dist-packages (from notebook>=4.0.0->qgrid) (0.17.1)\n",
            "Requirement already satisfied: prometheus-client in /usr/local/lib/python3.10/dist-packages (from notebook>=4.0.0->qgrid) (0.16.0)\n",
            "Requirement already satisfied: numpy>=1.21.0 in /usr/local/lib/python3.10/dist-packages (from pandas>=0.18.0->qgrid) (1.22.4)\n",
            "Requirement already satisfied: python-dateutil>=2.8.1 in /usr/local/lib/python3.10/dist-packages (from pandas>=0.18.0->qgrid) (2.8.2)\n",
            "Requirement already satisfied: pytz>=2020.1 in /usr/local/lib/python3.10/dist-packages (from pandas>=0.18.0->qgrid) (2022.7.1)\n",
            "Requirement already satisfied: pickleshare in /usr/local/lib/python3.10/dist-packages (from ipython>=4.0.0->ipywidgets>=7.0.0->qgrid) (0.7.5)\n",
            "Requirement already satisfied: decorator in /usr/local/lib/python3.10/dist-packages (from ipython>=4.0.0->ipywidgets>=7.0.0->qgrid) (4.4.2)\n",
            "Requirement already satisfied: setuptools>=18.5 in /usr/local/lib/python3.10/dist-packages (from ipython>=4.0.0->ipywidgets>=7.0.0->qgrid) (67.7.2)\n",
            "Requirement already satisfied: backcall in /usr/local/lib/python3.10/dist-packages (from ipython>=4.0.0->ipywidgets>=7.0.0->qgrid) (0.2.0)\n",
            "Requirement already satisfied: matplotlib-inline in /usr/local/lib/python3.10/dist-packages (from ipython>=4.0.0->ipywidgets>=7.0.0->qgrid) (0.1.6)\n",
            "Requirement already satisfied: prompt-toolkit!=3.0.0,!=3.0.1,<3.1.0,>=2.0.0 in /usr/local/lib/python3.10/dist-packages (from ipython>=4.0.0->ipywidgets>=7.0.0->qgrid) (3.0.38)\n",
            "Collecting jedi>=0.16\n",
            "  Downloading jedi-0.18.2-py2.py3-none-any.whl (1.6 MB)\n",
            "     ━━━━━━━━━━━━━━━━━━━━━━━━━━━━━━━━━━━━━━━━ 1.6/1.6 MB 52.4 MB/s eta 0:00:00\n",
            "Requirement already satisfied: pexpect>4.3 in /usr/local/lib/python3.10/dist-packages (from ipython>=4.0.0->ipywidgets>=7.0.0->qgrid) (4.8.0)\n",
            "Requirement already satisfied: pygments in /usr/local/lib/python3.10/dist-packages (from ipython>=4.0.0->ipywidgets>=7.0.0->qgrid) (2.14.0)\n",
            "Requirement already satisfied: platformdirs>=2.5 in /usr/local/lib/python3.10/dist-packages (from jupyter-core>=4.6.1->notebook>=4.0.0->qgrid) (3.3.0)\n",
            "Requirement already satisfied: six>=1.5 in /usr/local/lib/python3.10/dist-packages (from python-dateutil>=2.8.1->pandas>=0.18.0->qgrid) (1.16.0)\n",
            "Requirement already satisfied: ptyprocess in /usr/local/lib/python3.10/dist-packages (from terminado>=0.8.3->notebook>=4.0.0->qgrid) (0.7.0)\n",
            "Requirement already satisfied: argon2-cffi-bindings in /usr/local/lib/python3.10/dist-packages (from argon2-cffi->notebook>=4.0.0->qgrid) (21.2.0)\n",
            "Requirement already satisfied: MarkupSafe>=2.0 in /usr/local/lib/python3.10/dist-packages (from jinja2->notebook>=4.0.0->qgrid) (2.1.2)\n",
            "Requirement already satisfied: bleach in /usr/local/lib/python3.10/dist-packages (from nbconvert->notebook>=4.0.0->qgrid) (6.0.0)\n",
            "Requirement already satisfied: beautifulsoup4 in /usr/local/lib/python3.10/dist-packages (from nbconvert->notebook>=4.0.0->qgrid) (4.11.2)\n",
            "Requirement already satisfied: packaging in /usr/local/lib/python3.10/dist-packages (from nbconvert->notebook>=4.0.0->qgrid) (23.1)\n",
            "Requirement already satisfied: lxml in /usr/local/lib/python3.10/dist-packages (from nbconvert->notebook>=4.0.0->qgrid) (4.9.2)\n",
            "Requirement already satisfied: tinycss2 in /usr/local/lib/python3.10/dist-packages (from nbconvert->notebook>=4.0.0->qgrid) (1.2.1)\n",
            "Requirement already satisfied: jupyterlab-pygments in /usr/local/lib/python3.10/dist-packages (from nbconvert->notebook>=4.0.0->qgrid) (0.2.2)\n",
            "Requirement already satisfied: mistune<2,>=0.8.1 in /usr/local/lib/python3.10/dist-packages (from nbconvert->notebook>=4.0.0->qgrid) (0.8.4)\n",
            "Requirement already satisfied: entrypoints>=0.2.2 in /usr/local/lib/python3.10/dist-packages (from nbconvert->notebook>=4.0.0->qgrid) (0.4)\n",
            "Requirement already satisfied: pandocfilters>=1.4.1 in /usr/local/lib/python3.10/dist-packages (from nbconvert->notebook>=4.0.0->qgrid) (1.5.0)\n",
            "Requirement already satisfied: defusedxml in /usr/local/lib/python3.10/dist-packages (from nbconvert->notebook>=4.0.0->qgrid) (0.7.1)\n",
            "Requirement already satisfied: nbclient>=0.5.0 in /usr/local/lib/python3.10/dist-packages (from nbconvert->notebook>=4.0.0->qgrid) (0.7.4)\n",
            "Requirement already satisfied: jsonschema>=2.6 in /usr/local/lib/python3.10/dist-packages (from nbformat->notebook>=4.0.0->qgrid) (4.3.3)\n",
            "Requirement already satisfied: fastjsonschema in /usr/local/lib/python3.10/dist-packages (from nbformat->notebook>=4.0.0->qgrid) (2.16.3)\n",
            "Requirement already satisfied: parso<0.9.0,>=0.8.0 in /usr/local/lib/python3.10/dist-packages (from jedi>=0.16->ipython>=4.0.0->ipywidgets>=7.0.0->qgrid) (0.8.3)\n",
            "Requirement already satisfied: attrs>=17.4.0 in /usr/local/lib/python3.10/dist-packages (from jsonschema>=2.6->nbformat->notebook>=4.0.0->qgrid) (23.1.0)\n",
            "Requirement already satisfied: pyrsistent!=0.17.0,!=0.17.1,!=0.17.2,>=0.14.0 in /usr/local/lib/python3.10/dist-packages (from jsonschema>=2.6->nbformat->notebook>=4.0.0->qgrid) (0.19.3)\n",
            "Requirement already satisfied: wcwidth in /usr/local/lib/python3.10/dist-packages (from prompt-toolkit!=3.0.0,!=3.0.1,<3.1.0,>=2.0.0->ipython>=4.0.0->ipywidgets>=7.0.0->qgrid) (0.2.6)\n",
            "Requirement already satisfied: cffi>=1.0.1 in /usr/local/lib/python3.10/dist-packages (from argon2-cffi-bindings->argon2-cffi->notebook>=4.0.0->qgrid) (1.15.1)\n",
            "Requirement already satisfied: soupsieve>1.2 in /usr/local/lib/python3.10/dist-packages (from beautifulsoup4->nbconvert->notebook>=4.0.0->qgrid) (2.4.1)\n",
            "Requirement already satisfied: webencodings in /usr/local/lib/python3.10/dist-packages (from bleach->nbconvert->notebook>=4.0.0->qgrid) (0.5.1)\n",
            "Requirement already satisfied: pycparser in /usr/local/lib/python3.10/dist-packages (from cffi>=1.0.1->argon2-cffi-bindings->argon2-cffi->notebook>=4.0.0->qgrid) (2.21)\n",
            "Building wheels for collected packages: qgrid\n",
            "  Building wheel for qgrid (setup.py): started\n",
            "  Building wheel for qgrid (setup.py): finished with status 'done'\n",
            "  Created wheel for qgrid: filename=qgrid-1.3.1-py2.py3-none-any.whl size=1761270 sha256=4ee6614e4b2ea6f74ca79ce2ac89ffcb853908d8c1bdb435d35f1d5a0b472ec6\n",
            "  Stored in directory: /root/.cache/pip/wheels/b2/28/9b/c1053eb92a506d814e21f415d6ce4beab694a3efed99b500bc\n",
            "Successfully built qgrid\n",
            "Installing collected packages: jedi, qgrid\n",
            "Successfully installed jedi-0.18.2 qgrid-1.3.1\n"
          ]
        }
      ]
    },
    {
      "cell_type": "code",
      "source": [
        "!jupyter nbextension enable --py --sys-prefix qgrid\n",
        "!jupyter nbextension enable --py --sys-prefix widgetsnbextension"
      ],
      "metadata": {
        "colab": {
          "base_uri": "https://localhost:8080/"
        },
        "id": "TK2rp0HGdgZB",
        "outputId": "a079e4b2-e01f-4406-8cba-c6b880d6a21d"
      },
      "execution_count": 26,
      "outputs": [
        {
          "output_type": "stream",
          "name": "stdout",
          "text": [
            "Enabling notebook extension qgrid/extension...\n",
            "Paths used for configuration of notebook: \n",
            "    \t/usr/etc/jupyter/nbconfig/notebook.json\n",
            "Paths used for configuration of notebook: \n",
            "    \t\n",
            "      - Validating: \u001b[32mOK\u001b[0m\n",
            "Paths used for configuration of notebook: \n",
            "    \t/usr/etc/jupyter/nbconfig/notebook.json\n",
            "Enabling notebook extension jupyter-js-widgets/extension...\n",
            "Paths used for configuration of notebook: \n",
            "    \t/usr/etc/jupyter/nbconfig/notebook.json\n",
            "Paths used for configuration of notebook: \n",
            "    \t\n",
            "      - Validating: \u001b[32mOK\u001b[0m\n",
            "Paths used for configuration of notebook: \n",
            "    \t/usr/etc/jupyter/nbconfig/notebook.json\n"
          ]
        }
      ]
    },
    {
      "cell_type": "code",
      "source": [
        "import polib\n",
        "import random\n",
        "import pandas as pd\n",
        "import ipywidgets as widgets\n",
        "from IPython.display import display, HTML\n",
        "import qgrid\n",
        "from google.colab import output\n",
        "output.enable_custom_widget_manager()\n",
        "pofile = polib.pofile('/content/LangChain-Docs-Chinese/docs_gettext/messages.PO')\n",
        "\n",
        "# 创建空DataFrame来存储msgid和msgstr\n",
        "df = pd.DataFrame(columns=['msgid', 'msgstr'])\n",
        "\n",
        "# 将msgid和msgstr添加到DataFrame中\n",
        "for entry in pofile:\n",
        "    df = pd.concat([df, pd.DataFrame({'msgid': [entry.msgid], 'msgstr': [entry.msgstr]})], ignore_index=True)\n",
        "\n",
        "# 显示和编辑表格的函数\n",
        "def display_and_edit_po(df):\n",
        "    # 设置qgrid插件的参数\n",
        "    qgrid.set_grid_option('maxVisibleRows', 10)\n",
        "\n",
        "    # 创建一个qgrid表格\n",
        "    qgrid_widget = qgrid.show_grid(df, show_toolbar=True)\n",
        "\n",
        "    # 创建一个保存按钮\n",
        "    save_button = widgets.Button(description='Save to messages')\n",
        "\n",
        "    # 保存按钮的回调函数\n",
        "    def on_save_button_clicked(b):\n",
        "        # 获取已编辑的DataFrame\n",
        "        edited_df = qgrid_widget.get_changed_df()\n",
        "\n",
        "        # 更新pofile中的msgstr字段\n",
        "        for index, row in edited_df.iterrows():\n",
        "            entry = pofile.find(row['msgid'])\n",
        "            if entry is not None:\n",
        "                entry.msgstr = row['msgstr']\n",
        "\n",
        "        # 保存更新后的pofile到文件\n",
        "        pofile.save('/content/LangChain-Docs-Chinese/docs_gettext/messages_edited.PO')\n",
        "        print('Saved to messages_edited.PO')\n",
        "\n",
        "    # 为保存按钮添加回调函数\n",
        "    save_button.on_click(on_save_button_clicked)\n",
        "\n",
        "    # 显示qgrid表格和保存按钮\n",
        "    display(qgrid_widget)\n",
        "    display(save_button)\n",
        "\n",
        "# 调用函数显示和编辑表格\n",
        "display_and_edit_po(df)"
      ],
      "metadata": {
        "colab": {
          "base_uri": "https://localhost:8080/",
          "height": 17,
          "referenced_widgets": [
            "59fa549570744a19b05d3d7cf1d72231"
          ]
        },
        "id": "kCjFbYf-3Fnm",
        "outputId": "3fb0f0f3-5e7d-4018-f5d6-98c4523ea5af"
      },
      "execution_count": 28,
      "outputs": [
        {
          "output_type": "display_data",
          "data": {
            "text/plain": [
              "QgridWidget(grid_options={'fullWidthRows': True, 'syncColumnCellResize': True, 'forceFitColumns': True, 'defau…"
            ],
            "application/vnd.jupyter.widget-view+json": {
              "version_major": 2,
              "version_minor": 0,
              "model_id": "59fa549570744a19b05d3d7cf1d72231"
            }
          },
          "metadata": {
            "application/vnd.jupyter.widget-view+json": {
              "colab": {
                "custom_widget_manager": {
                  "url": "https://ssl.gstatic.com/colaboratory-static/widgets/colab-cdn-widget-manager/b3e629b1971e1542/manager.min.js"
                }
              }
            }
          }
        }
      ]
    }
  ]
}